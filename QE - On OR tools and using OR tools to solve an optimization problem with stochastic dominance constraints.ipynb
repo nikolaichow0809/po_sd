{
 "cells": [
  {
   "cell_type": "markdown",
   "id": "e417a7c4",
   "metadata": {
    "slideshow": {
     "slide_type": "slide"
    }
   },
   "source": [
    "# On linear programming with OR-tools and using OR-tools to solve an optimization problem with stochastic dominance constraints\n",
    "\n",
    "### Nikolai Chow"
   ]
  },
  {
   "cell_type": "markdown",
   "id": "aa93bd79",
   "metadata": {
    "slideshow": {
     "slide_type": "slide"
    }
   },
   "source": [
    "## Overview"
   ]
  },
  {
   "cell_type": "markdown",
   "id": "0f64c362",
   "metadata": {
    "slideshow": {
     "slide_type": "subslide"
    }
   },
   "source": [
    "1. Linear programming with Google's OR-tools vs SciPy\n",
    "\n",
    "\n",
    "2. A portfolio optimization problem with stochastic dominance constraints that can be solved by linear programing\n",
    "\n",
    "\n",
    "3. An example in \"Dentcheva, D., & Ruszczyński, A. (2003). Optimization with stochastic dominance constraints. SIAM Journal on Optimization.\" with Google's OR-tools and SciPy"
   ]
  },
  {
   "cell_type": "markdown",
   "id": "bb1ac9d3",
   "metadata": {
    "slideshow": {
     "slide_type": "slide"
    }
   },
   "source": [
    "## 1. Linear programming with Google's OR-tools vs SciPy"
   ]
  },
  {
   "cell_type": "markdown",
   "id": "ae3c91c1",
   "metadata": {
    "slideshow": {
     "slide_type": "subslide"
    }
   },
   "source": [
    "Google OR-Tools is a free and open-source software suite developed by Google. \n",
    "\n",
    "OR-Tools includes solvers for:\n",
    "\n",
    "1. Linear and Mixed-Integer Programming\n",
    "\n",
    "\n",
    "2. Constraint Programming \n",
    "    - How can N queens be placed on an NxN chessboard so that no two of them attack each other?\n",
    "    - Create a schedule for four nurses over a three-day period\n",
    "\n",
    "\n",
    "3. Graph Algorithms\n"
   ]
  },
  {
   "cell_type": "markdown",
   "id": "02aa84c6",
   "metadata": {
    "slideshow": {
     "slide_type": "slide"
    }
   },
   "source": [
    "### OR-tools vs SciPy (My Personal Considerations)\n",
    "\n",
    "\n",
    "1. Speed of solving the problem\n",
    "\n",
    "2. Time required for problem formulation\n",
    "\n",
    "3. Code readability\n",
    "\n"
   ]
  },
  {
   "cell_type": "markdown",
   "id": "e839b362",
   "metadata": {
    "slideshow": {
     "slide_type": "subslide"
    }
   },
   "source": [
    "#### Scipy\n",
    "\n",
    "- [highs](https://highs.dev/#contact) (default)\n",
    "- highs-ds \n",
    "- highs-ipm \n",
    "- interior-point (legacy)\n",
    "- revised simplex (legacy) \n",
    "- simplex (legacy)  \n",
    "\n",
    "The legacy methods are deprecated and will be removed in SciPy 1.11.0.\n",
    "\n",
    "#### OR-tools\n",
    "\n",
    "- GLOP\n",
    "- [SCIP](https://scipopt.org/)"
   ]
  },
  {
   "attachments": {},
   "cell_type": "markdown",
   "id": "61179e91",
   "metadata": {
    "slideshow": {
     "slide_type": "subslide"
    }
   },
   "source": [
    "![MIPLIB2017.jpg](https://lh5.googleusercontent.com/9P8C7E0nMD7kaCN5H9-Ed__57ZMIozY8BlOclBA_AHdWNHXctLLGlRQqXkX2s-4xSds=w2400)\n",
    "\n",
    "Source: http://plato.asu.edu/ftp/milp.html\n"
   ]
  },
  {
   "cell_type": "markdown",
   "id": "39be75e4",
   "metadata": {
    "slideshow": {
     "slide_type": "slide"
    }
   },
   "source": [
    "### Example 1: Production Problem\n",
    "\n",
    "The problem is:\n",
    "\n",
    "$$\n",
    "\\begin{aligned}\n",
    "\\max_{x_1,x_2} \\ & 3 x_1 + 4 x_2 \\\\\n",
    "\\mbox{subject to } \\ & 2 x_1 + 5 x_2 \\le 30 \\\\\n",
    "& 4 x_1 + 2 x_2 \\le 20 \\\\\n",
    "& x_1, x_2 \\ge 0 \\\\\n",
    "\\end{aligned}\n",
    "$$\n",
    "\n",
    "Source: https://python.quantecon.org/lp_intro.html"
   ]
  },
  {
   "cell_type": "code",
   "execution_count": 1,
   "id": "07ea3168",
   "metadata": {
    "slideshow": {
     "slide_type": "skip"
    }
   },
   "outputs": [],
   "source": [
    "import numpy as np\n",
    "import pandas as pd\n",
    "import time\n",
    "import matplotlib.pyplot as plt\n",
    "\n",
    "from matplotlib.patches import Polygon\n",
    "from scipy.optimize import linprog\n",
    "from ortools.linear_solver import pywraplp\n",
    "%matplotlib inline"
   ]
  },
  {
   "cell_type": "markdown",
   "id": "7684d833",
   "metadata": {
    "slideshow": {
     "slide_type": "slide"
    }
   },
   "source": [
    "### Using SciPy"
   ]
  },
  {
   "cell_type": "code",
   "execution_count": 2,
   "id": "df91a3b6",
   "metadata": {
    "slideshow": {
     "slide_type": "subslide"
    }
   },
   "outputs": [
    {
     "data": {
      "text/plain": [
       "           con: array([], dtype=float64)\n",
       " crossover_nit: 0\n",
       "         eqlin:  marginals: array([], dtype=float64)\n",
       "  residual: array([], dtype=float64)\n",
       "           fun: -27.5\n",
       "       ineqlin:  marginals: array([-0.625 , -0.4375])\n",
       "  residual: array([0., 0.])\n",
       "         lower:  marginals: <MemoryView of 'ndarray' at 0x25fd918b380>\n",
       "  residual: array([2.5, 5. ])\n",
       "       message: 'Optimization terminated successfully.'\n",
       "           nit: 2\n",
       "         slack: array([0., 0.])\n",
       "        status: 0\n",
       "       success: True\n",
       "         upper:  marginals: <MemoryView of 'ndarray' at 0x25fd918b1e0>\n",
       "  residual: array([inf, inf])\n",
       "             x: array([2.5, 5. ])"
      ]
     },
     "execution_count": 2,
     "metadata": {},
     "output_type": "execute_result"
    }
   ],
   "source": [
    "# Construct parameters\n",
    "c_ex1 = np.array([3, 4])\n",
    "\n",
    "# Inequality constraints\n",
    "A_ex1 = np.array([[2, 5],\n",
    "                  [4, 2]])\n",
    "b_ex1 = np.array([30,20])\n",
    "\n",
    "# Solve the problem\n",
    "# we put a negative sign on the objective as linprog does minimization\n",
    "res_ex1 = linprog(-c_ex1, A_ub=A_ex1, b_ub=b_ex1, method='highs')\n",
    "\n",
    "res_ex1"
   ]
  },
  {
   "cell_type": "markdown",
   "id": "811fa736",
   "metadata": {
    "slideshow": {
     "slide_type": "slide"
    }
   },
   "source": [
    "### Using OR-tools"
   ]
  },
  {
   "cell_type": "code",
   "execution_count": 3,
   "id": "e6bcd3f1",
   "metadata": {
    "slideshow": {
     "slide_type": "subslide"
    }
   },
   "outputs": [
    {
     "name": "stdout",
     "output_type": "stream",
     "text": [
      "Solution:\n",
      "Objective value = 27.5\n",
      "x1 = 2.4999999999999996\n",
      "x2 = 5.0\n"
     ]
    }
   ],
   "source": [
    "# Declare the LP solver\n",
    "solver = pywraplp.Solver.CreateSolver('GLOP')\n",
    "\n",
    "# Create the variables\n",
    "# NumVar for continuous variables; IntVar for integer variables; BoolVar for boolean variables.\n",
    "x1 = solver.NumVar(0, solver.infinity(), 'x1')\n",
    "x2 = solver.NumVar(0, solver.infinity(), 'x2')\n",
    "\n",
    "# Objective function: 3x + 4y.\n",
    "solver.Maximize(3*x1 + 4*x2)\n",
    "\n",
    "# Inequality constraints\n",
    "solver.Add(2*x1 + 5*x2 <= 30)\n",
    "solver.Add(4*x1 + 2*x2 <= 20)\n",
    "\n",
    "status = solver.Solve()\n",
    "\n",
    "print('Solution:')\n",
    "print('Objective value =', solver.Objective().Value())\n",
    "print('x1 =', x1.solution_value())\n",
    "print('x2 =', x2.solution_value())"
   ]
  },
  {
   "cell_type": "markdown",
   "id": "dc8f47ab",
   "metadata": {
    "slideshow": {
     "slide_type": "slide"
    }
   },
   "source": [
    "### Example 2: Investment Problem\n",
    "\n",
    "The problem is:\n",
    "\n",
    "$$\n",
    "\\begin{aligned}\n",
    "\\max_{x} \\ & 1.30 \\cdot 3x_1 + 1.06 x_4 + 1.30 x_5 \\\\\n",
    "\\mbox{subject to } \\ & x_1 + x_2 = 100,000\\\\\n",
    " & x_1 - 1.06 x_2 + x_3 + x_5 = 0\\\\\n",
    " & x_1 - 1.06 x_3 + x_4 = 0\\\\\n",
    " & x_2 \\ge -20,000\\\\\n",
    " & x_3 \\ge -20,000\\\\\n",
    " & x_4 \\ge -20,000\\\\\n",
    " & x_5 \\le 50,000\\\\\n",
    " & x_j \\ge 0, \\quad j = 1,5\\\\\n",
    " & x_j \\ \\text{unrestricted}, \\quad j = 2,3,4\\\\\n",
    "\\end{aligned}\n",
    "$$\n",
    "\n",
    "Source: https://python.quantecon.org/lp_intro.html"
   ]
  },
  {
   "cell_type": "markdown",
   "id": "083753bb",
   "metadata": {
    "slideshow": {
     "slide_type": "slide"
    }
   },
   "source": [
    "### Using SciPy"
   ]
  },
  {
   "cell_type": "code",
   "execution_count": 4,
   "id": "1f5c04ab",
   "metadata": {
    "slideshow": {
     "slide_type": "subslide"
    }
   },
   "outputs": [
    {
     "data": {
      "text/plain": [
       "     con: array([ 1.45519152e-11, -2.18278728e-11,  0.00000000e+00])\n",
       "     fun: -141018.24349792692\n",
       " message: 'Optimization terminated successfully.'\n",
       "     nit: 4\n",
       "   slack: array([], dtype=float64)\n",
       "  status: 0\n",
       " success: True\n",
       "       x: array([ 24927.75474306,  75072.24525694,   4648.8252293 , -20000.        ,\n",
       "        50000.        ])"
      ]
     },
     "execution_count": 4,
     "metadata": {},
     "output_type": "execute_result"
    }
   ],
   "source": [
    "# Construct parameters\n",
    "rate = 1.06\n",
    "\n",
    "# Objective function parameters\n",
    "c_ex2 = np.array([1.30*3, 0, 0, 1.06, 1.30])\n",
    "\n",
    "# Inequality constraints ??\n",
    "A_ex2 = np.array([[1,  1,  0,  0,  0],\n",
    "                  [1, -rate, 1, 0, 1],\n",
    "                  [1, 0, -rate, 1, 0]])\n",
    "b_ex2 = np.array([100000, 0, 0])\n",
    "\n",
    "# Bounds on decision variables\n",
    "bounds_ex2 = [(  0,    None),\n",
    "              (-20000, None),\n",
    "              (-20000, None),\n",
    "              (-20000, None),\n",
    "              (  0,   50000)]\n",
    "\n",
    "# Solve the problem\n",
    "res_ex2 = linprog(-c_ex2, A_eq=A_ex2, b_eq=b_ex2,\n",
    "                  bounds=bounds_ex2, method='revised simplex')\n",
    "\n",
    "res_ex2"
   ]
  },
  {
   "cell_type": "markdown",
   "id": "ed4f57cb",
   "metadata": {
    "slideshow": {
     "slide_type": "slide"
    }
   },
   "source": [
    "### Using OR-tools"
   ]
  },
  {
   "cell_type": "code",
   "execution_count": 5,
   "id": "e5f1e4f2",
   "metadata": {
    "slideshow": {
     "slide_type": "subslide"
    }
   },
   "outputs": [
    {
     "name": "stdout",
     "output_type": "stream",
     "text": [
      "Solution:\n",
      "Objective value = 141018.24349792695\n",
      "x1 = 24927.75474305819\n",
      "x2 = 75072.24525694181\n",
      "x3 = 4648.825229300174\n",
      "x4 = -20000.000000000007\n",
      "x5 = 49999.999999999956\n"
     ]
    }
   ],
   "source": [
    "# Declare the LP solver\n",
    "solver = pywraplp.Solver.CreateSolver('SCIP')\n",
    "\n",
    "# Create the variables\n",
    "x_s = [solver.NumVar(0, solver.infinity(), 'x1')]\n",
    "x_s = x_s + [solver.NumVar(-20000, solver.infinity(),f'x{i}') for i in range(2,5)]\n",
    "x_s = x_s + [solver.NumVar(0, 50000.00, 'x5')]\n",
    "\n",
    "# Objective function\n",
    "solver.Maximize(1.30*3*x_s[0] + 1.06*x_s[3] + 1.30*x_s[4])\n",
    "\n",
    "# Constraints\n",
    "solver.Add(x_s[0] + x_s[1] == 100000)\n",
    "solver.Add(x_s[0] - 1.06*x_s[1] + x_s[2] + x_s[4] == 0)\n",
    "solver.Add(x_s[0] - 1.06*x_s[2] + x_s[3] == 0)\n",
    "\n",
    "status = solver.Solve()\n",
    "\n",
    "print('Solution:')\n",
    "print('Objective value =', solver.Objective().Value())\n",
    "for i in range(len(x_s)):\n",
    "    print(f'x{i+1} = {x_s[i].solution_value()}')"
   ]
  },
  {
   "cell_type": "markdown",
   "id": "1e1fbbef",
   "metadata": {
    "slideshow": {
     "slide_type": "slide"
    }
   },
   "source": [
    "## 2. A portfolio optimization problem with stochastic dominance constraints\n",
    "\n"
   ]
  },
  {
   "cell_type": "markdown",
   "id": "77611638",
   "metadata": {
    "slideshow": {
     "slide_type": "slide"
    }
   },
   "source": [
    "### 2.1. Review of stochastic dominance"
   ]
  },
  {
   "cell_type": "markdown",
   "id": "888c9ef1",
   "metadata": {
    "slideshow": {
     "slide_type": "subslide"
    }
   },
   "source": [
    "Let random variable $X\\in \\mathcal{L}^1(\\Omega,\\mathcal{F},P)$ such that $X: \\Omega \\rightarrow \\mathbb{R}$, where $(\\Omega,\\mathcal{F},P)$ is the probability space.\n",
    "\n",
    "The cumulative distribution function (CDF) of $X$ is defined as:\n",
    "\n",
    "$$F(\\eta) = P[X \\leq \\eta]$$\n",
    "\n",
    "The second CDF of $X$ is defined as:\n",
    "\n",
    "$$F_2(\\eta) = \\int^\\eta_{-\\infty}F(t)dt$$ for $\\eta \\in R$.\n",
    "\n",
    "\n",
    "Similarly, for random variable $Y\\in \\mathcal{L}^1(\\Omega,\\mathcal{F},P)$ such that $Y: \\Omega \\rightarrow \\mathbb{R}$, we have $G(\\eta)$ and $G_2(\\eta)$."
   ]
  },
  {
   "cell_type": "markdown",
   "id": "193983b5",
   "metadata": {
    "slideshow": {
     "slide_type": "subslide"
    }
   },
   "source": [
    "With the above setting, stochastic dominance relationships are defined as:\n",
    "\n",
    "1. $G$ is said to be first order stochastic dominated by $F$  ($F\\succeq_1 G$) if\n",
    "\n",
    "$$F(\\eta)\\leq G(\\eta) \\;\\text{for all}\\; \\eta \\in  \\mathbb{R}.$$\n",
    "\n",
    "\n",
    "2. $G$ is said to be second order stochastic dominated by $F$  ($F\\succeq_2 G$) if\n",
    "\n",
    "$$F_2(\\eta)\\leq G_2(\\eta) \\;\\text{for all}\\; \\eta \\in  \\mathbb{R}.$$"
   ]
  },
  {
   "cell_type": "markdown",
   "id": "9a59a2f1",
   "metadata": {
    "slideshow": {
     "slide_type": "subslide"
    }
   },
   "source": [
    "###  Why should we care?\n",
    "\n",
    "There are several reasons why stochastic dominance is a valuable tool in economics and finance. Here are two key theorems from Hadar and Russell (1969), Hanoch and Levy (1975), and Tesfatsion (1976) that highlight the importance of stochastic dominance:\n",
    "\n",
    "1. The relation $F\\succeq_1 G$ is equivalent to $E[u(X)]\\geq E[u(Y)]$\n",
    "for all utility function $u$ with $u'\\geq 0$\n",
    "\n",
    "\n",
    "2. The relation $F\\succeq_2 G$ is equivalent to $E[u(X)]\\geq E[u(Y)]$\n",
    "for all utility function $u$ with $u'\\geq 0$ and $u''\\leq 0$"
   ]
  },
  {
   "cell_type": "markdown",
   "id": "1c3f6c3a",
   "metadata": {
    "slideshow": {
     "slide_type": "subslide"
    }
   },
   "source": [
    "### One direction of stochastic dominance research is to find out the way to form SSD-efficient portfolios. In general, this is not an easy task. "
   ]
  },
  {
   "cell_type": "markdown",
   "id": "4c65cc6d",
   "metadata": {
    "slideshow": {
     "slide_type": "slide"
    }
   },
   "source": [
    "### 2.2. A portfolio optimization problem"
   ]
  },
  {
   "cell_type": "markdown",
   "id": "2d626367",
   "metadata": {
    "slideshow": {
     "slide_type": "subslide"
    }
   },
   "source": [
    "\n",
    "\n",
    "Let $R_1,..., R_N $ be random returns for assets $1,...,N$,  with joint cumulative distribution function $\\mathcal{F}(\\textbf{r})$ where $\\textbf{r}\\in R_1 \\times ... \\times R_N$. Assume that $E[|R_n|]< \\infty$ for all $n=1,...,N$, and further let $w_1,...,w_N$ as portfolio weights on assets $1,...,N$. Without short selling, the set of possible asset allocations is defined as:\n",
    "\n",
    "$$W=\\Big\\{w\\in \\mathbb{R}^N: \\sum^N_{i=1} w_i=1, w_n\\geq 0 \\;\\; \\text{for}\\;\\; n=1,...,N\\Big\\}.$$\n",
    "\n",
    "The CDF $\\mathcal{F}_w(\\eta)$ for asset allocation $w\\in W$ is defined as:\n",
    "\n",
    "$$\\mathcal{F}_w(\\eta)=\\int_{\\{\\textbf{r}^Tw\\leq \\eta\\}}d\\mathcal{F}(\\textbf{r})$$\n",
    "\n",
    "where the corresponding portfolio return is denoted as $R_w=R_1w_1+...+R_Nw_N$. For empirical purposes, we assume that by selecting appropriate values for $a$ and $b$, we can ensure that the $\\mathcal{F}_w(a) = 0$ and $\\mathcal{F}_w(b) = 1$ for all $w \\in W$."
   ]
  },
  {
   "cell_type": "markdown",
   "id": "b69315ef",
   "metadata": {
    "slideshow": {
     "slide_type": "subslide"
    }
   },
   "source": [
    "Letting $Y$ as target random return with finite expected value and corresponding CDF $G$, such that $G(a)=0$ and $G(b)=1$. Under these settings, one could consider the following problem: \n",
    "\n",
    "\\begin{align}\n",
    "    \\max E[R_w] \\nonumber\\\\\n",
    "    \\text{subject to} \\;\\; \\mathcal{F}_w\\succeq_{2} G\\nonumber\\\\\n",
    "    w \\in W \n",
    "\\end{align}\n",
    "where $E[R_w]$ is the expected portoflio return.\n",
    "\n",
    "Solving the problem can be challenging since it involves computing intergals of CDF $\\mathcal{F}_w(\\eta)$ and $\\mathcal{F}_w(\\eta)$ will vary significantly when the weights on assets are different."
   ]
  },
  {
   "cell_type": "markdown",
   "id": "50775832",
   "metadata": {
    "slideshow": {
     "slide_type": "subslide"
    }
   },
   "source": [
    "To address this, Dentcheva and Ruszczyński (2003) use a three steps approach:\n",
    "\n",
    "1. Transform the problem into an equivalent problem that doesn't require computing intergals of marginal CDF.\n",
    "2. Show that if $Y$ has a discrete distribution with known realizations, we don't need to compare intergals of CDF for all $\\eta \\in [a,b]$.\n",
    "3. Further transform the problem into a linear programming problem."
   ]
  },
  {
   "cell_type": "markdown",
   "id": "dafbb17c",
   "metadata": {
    "slideshow": {
     "slide_type": "subslide"
    }
   },
   "source": [
    "### 2.3. An equivalent problem\n",
    "\n",
    "Bawa et al.(1985) states the following:\n",
    "\n",
    "$$F_2(\\eta)\\leq G_2(\\eta) \\;\\text{for all}\\; \\eta \\in [a,b]$$\n",
    "\n",
    "$$\\Longleftrightarrow$$\n",
    "\n",
    "\\begin{aligned}\n",
    "E[(\\eta - X)_+]\\leq E[(\\eta -Y)_+] \\ & \\ \\ \\text{for all} \\ \\eta\\in [a,b]\n",
    "\\end{aligned}\n",
    "\n",
    "where $(\\eta - X)_+=\\max\\{\\eta - X,0\\}$. $E[(\\eta - X)_+]$ is the lower partial moment of X and $E[(\\eta -Y)_+]$ is the lower partial moment of Y. "
   ]
  },
  {
   "cell_type": "markdown",
   "id": "1be4ade6",
   "metadata": {
    "slideshow": {
     "slide_type": "subslide"
    }
   },
   "source": [
    "Using this idea, one could transform the original problem into an equivalent problem as: \n",
    "\n",
    "\\begin{align}\n",
    "    \\max &\\; \\;\\;  E[R_w] \\nonumber\\\\\n",
    "    \\text{subject to} \n",
    "    &\\;\\;\\; E[(\\eta - R_w)_+]\\leq E[(\\eta -Y)_+] \\ & \\ \\ \\text{for all} \\ \\eta\\in [a,b]\\\\ \n",
    "   &\\;\\;\\;  w \\in W. \\nonumber\n",
    "\\end{align}"
   ]
  },
  {
   "cell_type": "markdown",
   "id": "8b1ce13e",
   "metadata": {
    "slideshow": {
     "slide_type": "slide"
    }
   },
   "source": [
    "### 2.4. Show that we don't need to compare intergals of CDFs for all $\\eta \\in [a,b]$\n",
    "\n",
    "Further assume Y has a discrete distribution with realizations $y_i$, $i =1,...,m$ then Dentcheva and Ruszczyński (2003) shows:\n",
    "\n",
    "\\begin{aligned}\n",
    "E[(\\eta - R_w)_+]\\leq E[(\\eta -Y)_+] \\ & \\ \\ \\text{for all} \\ \\eta\\in [a,b]\n",
    "\\end{aligned}\n",
    "\n",
    "$$\\Longleftrightarrow$$\n",
    "\n",
    "\\begin{aligned}\n",
    "E[(y_i - R_w)_+]\\leq E[(y_i -Y)_+], \\ & \\ \\ \\       i=1,...,m \n",
    "\\end{aligned}\n",
    "\n",
    "This equivalent relationship allow us to compare these partial moments only for a finite number of return levels."
   ]
  },
  {
   "cell_type": "markdown",
   "id": "a642cee6",
   "metadata": {
    "slideshow": {
     "slide_type": "slide"
    }
   },
   "source": [
    "### 2.5. Further transform the problem into a linear programming problem\n",
    "\n",
    "Assume there are finitly many elementary events such that $\\Omega=\\{\\nu_1,...,\\nu_m\\}$ and introduce a decision vector $S:[a,b] \\times \\Omega \\rightarrow  \\mathbb{R}$ , then $E[(\\eta - R_w)_+]$ will be the solution of the following linear programming problem:\n",
    "\n",
    "\n",
    "\\begin{align}\n",
    "\\min_{S(\\eta,\\nu)} &\\;\\;\\;E[ S(\\eta,\\nu)] \\nonumber \\\\\n",
    "\\text{subject to} &\\;\\;\\; S(\\eta,\\nu_i) \\geq \\eta - R_w(\\nu_i) &\\text{for} \\;i=1,...,m \\nonumber \\\\\n",
    "&\\;\\;\\; S(\\eta,\\nu_i) \\geq 0 &\\text{for} \\;i=1,...,m\n",
    "\\end{align}\n",
    "\n",
    "\n",
    "Since $E[ S(\\eta,\\nu)] = P[\\{\\nu_1\\}] S(\\eta,\\nu_1) + ... + P[\\{\\nu_m\\}] S(\\eta,\\nu_m)$, minimizing $E[ S(\\eta,\\nu)]$ is equivalent to minimizing $S(\\eta,\\nu_i)$ for all $\\nu_i \\in \\Omega$ and  minimizing $S(\\eta,\\nu_i)$ will enforce the solution $S(\\eta,\\nu_i)^*$ equal to $max\\{ \\eta - R_w(\\nu_i),0\\}$. Therefore $E[ S(\\eta,\\nu)^*]=E[(\\eta - R_w)_+]$. "
   ]
  },
  {
   "cell_type": "markdown",
   "id": "d1fb02ca",
   "metadata": {
    "slideshow": {
     "slide_type": "subslide"
    }
   },
   "source": [
    "Using this idea, the original problem could be further transformed into the following:\n",
    "\n",
    "\\begin{align}\n",
    "\\max  &\\;\\;\\; E[R_w]\\\\\n",
    "\\text{subject to}  &\\;\\;\\; S(y_i,\\nu_k)\\geq y_i -R_w(\\nu_i) &i=1,...,m, k=1,..., m\\nonumber\\\\\n",
    "&\\;\\;\\; E[S(y_i,\\nu)]\\leq E[(y_i-Y)_+] &i=1,...,m\\nonumber\\\\\n",
    "&\\;\\;\\;S(y_i,\\nu_k)\\geq 0 &i=1,...,m, k=1,..., m\\nonumber\\\\\n",
    "&\\;\\;\\;w \\in W \\nonumber\\\\\n",
    "\\end{align} \n",
    "\n",
    "Kindly note that in this problem, the solution $S(η,\\nu_i)^{**}$ will not necessarily enforce $E[S(y_i,\\nu)^{**}]$ to be equal to $E[(y_i-R_w)_+]$, since we are not explicitly minimizing $E[S(\\eta,\\nu)]$. However, we know that $E[(y_i-R_w)_+] \\leq E[S(y_i,\\nu)^{**}]$, therefore solving the above problem will ensure that $E[(y_i-R_w)_+] \\leq E[(y_i-Y)_+]$.\n"
   ]
  },
  {
   "cell_type": "markdown",
   "id": "5fd477e6",
   "metadata": {
    "slideshow": {
     "slide_type": "subslide"
    }
   },
   "source": [
    "Before we show the final product, we need some more notations.  \n",
    "\n",
    "- Let $p_k=P[\\{\\nu_k\\}]$, $r_{nk}=R_n(\\nu_k), s_{ik}=S(y_i,\\nu_k)$, and $v_i=E[(y_i-Y)_+]$.\n",
    "\n",
    "Then the original problem could be formulated as the following linear programming problem:\n",
    "\n",
    "\\begin{aligned}\n",
    "\\max_{w,s} &\\; \\sum_{k=1}^{m}\\sum_{n=1}^{N} p_kr_{nk}w_n\\nonumber\\\\\n",
    "\\text{subject to}&\\; \\sum_{n=1}^{N} r_{nk}w_n+s_{ik}\\geq y_i, &i=1,...,m, k=1,..., m\\nonumber\\\\\n",
    "&\\sum_{k=1}^{m} p_k s_{ik}\\leq v_i, &i=1,...,m\\nonumber\\\\\n",
    "&s_{ik}\\geq0&i=1,...,m, k=1,..., m\\nonumber\\\\\n",
    "&\\sum^N_{n=1} w_n =1\\nonumber\\\\\n",
    "&w_n \\geq 0 &n=1,...,N \\nonumber\\\\\n",
    "\\end{aligned}"
   ]
  },
  {
   "cell_type": "markdown",
   "id": "9fdb6fe7",
   "metadata": {
    "slideshow": {
     "slide_type": "slide"
    }
   },
   "source": [
    "## 3. An example in Dentcheva and Ruszczyński (2003)  with Python\n",
    "\n",
    "Now we turn to the an example at p.562 in Dentcheva and Ruszczyński (2003). "
   ]
  },
  {
   "cell_type": "code",
   "execution_count": 6,
   "id": "8843c5a0",
   "metadata": {
    "slideshow": {
     "slide_type": "slide"
    }
   },
   "outputs": [],
   "source": [
    "#Number of w is N=8 and s = m*m = 22*22 = 484 is 492\n",
    "# intialise data of lists.\n",
    "\n",
    "data = {'Asset 1':[  7.5,   8.4,  6.1,  5.2,  5.5,\n",
    "                     7.7,  10.9, 12.7, 15.6, 11.7,\n",
    "                     9.2,  10.3,    8,  6.3,  6.1,\n",
    "                     7.1,   8.7,    8,  5.7,  3.6,  3.1,  4.5],\n",
    "        'Asset 2':[ -5.8,     2,  5.6, 17.5,  0.2, \n",
    "                    -1.8,  -2.2, -5.3,  0.3, 46.5,\n",
    "                    -1.5,  15.9, 36.6, 30.9, -7.5,\n",
    "                     8.6,  21.2,  5.4, 19.3,  7.9, 21.7,-11.1],\n",
    "        'Asset 3':[-14.8, -26.5, 37.1, 23.6, -7.4,\n",
    "                     6.4,  18.4, 32.3, -5.1, 21.5,\n",
    "                    22.4,   6.1, 31.6, 18.6,  5.2,\n",
    "                    16.5,  31.6, -3.2, 30.4,  7.6,   10,  1.2],\n",
    "        'Asset 4':[-18.5, -28.4, 38.5, 26.6, -2.6,\n",
    "                     9.3,  25.6, 33.7, -3.7, 18.7,\n",
    "                    23.5,     3, 32.6, 16.1,  2.3,\n",
    "                    17.9,  29.2, -6.2, 34.2,    9, 11.3, -0.1],\n",
    "        'Asset 5':[-30.2, -33.8, 31.8,   28,  9.3, \n",
    "                    14.6,  30.7, 36.7,   -1, 21.3,\n",
    "                    21.7,  -9.7, 33.3,  8.6, -4.1,\n",
    "                    16.5,  20.4,  -17, 59.4, 17.4, 16.2, -3.2],\n",
    "        'Asset 6':[  2.3,   0.2, 12.3, 15.6,    3,  \n",
    "                     1.2,   2.3,  3.1,  7.3, 31.1,\n",
    "                       8,    15, 21.3, 15.6,  2.3,\n",
    "                     7.6,  14.2,  8.3, 16.1,  7.6,   11, -3.5],\n",
    "        'Asset 7':[-14.9, -23.2, 35.4,  2.5, 18.1, \n",
    "                    32.6,   4.8, 22.6, -2.3, -1.9,\n",
    "                    23.7,   7.4, 56.2, 69.4, 24.6,\n",
    "                    28.3,  10.5,-23.4, 12.1,-12.2, 32.6,  7.8],\n",
    "        'Asset 8':[ 67.7,  72.2,  -24,   -4,   20, \n",
    "                    29.5,  21.2, 29.6,-31.2,  8.4,\n",
    "                   -12.8, -17.5,  0.6, 21.6, 24.4,\n",
    "                   -13.9,  -2.3, -7.8, -4.2, -7.4, 14.6,   -1]}"
   ]
  },
  {
   "cell_type": "markdown",
   "id": "f1a9efb8",
   "metadata": {
    "slideshow": {
     "slide_type": "subslide"
    }
   },
   "source": [
    "Number of variables = 492\n",
    "\n",
    "Number of constraints = 507"
   ]
  },
  {
   "cell_type": "code",
   "execution_count": 7,
   "id": "ccd41972",
   "metadata": {
    "slideshow": {
     "slide_type": "subslide"
    }
   },
   "outputs": [],
   "source": [
    "# Create DataFrame\n",
    "df = pd.DataFrame(data)\n",
    "\n",
    "# Number of assets\n",
    "NumA = len(df.columns)\n",
    "# Number of states\n",
    "NumS = len(df)\n",
    "\n",
    "# List for col index\n",
    "cols = [f'Asset {i}' for i in range(1, NumA+1)]"
   ]
  },
  {
   "cell_type": "markdown",
   "id": "f989c615",
   "metadata": {
    "slideshow": {
     "slide_type": "subslide"
    }
   },
   "source": [
    "We start by setting up the target portfolio. It is just a equally weighted portfolio."
   ]
  },
  {
   "cell_type": "code",
   "execution_count": 8,
   "id": "792aa23a",
   "metadata": {
    "slideshow": {
     "slide_type": "subslide"
    }
   },
   "outputs": [],
   "source": [
    "# Create an array of weights, each set to 1/NumA\n",
    "weight = np.full(NumA, 1/NumA)\n",
    "\n",
    "# Calculate the weighted average of the columns in the dataframe\n",
    "y_k = np.average(np.asarray(df[cols]), weights=weight, axis=1)\n",
    "\n",
    "# Calculate the probability of each state \n",
    "p_k = 1/NumS\n",
    "\n",
    "#v_i are patial moments\n",
    "v_i = np.array([])\n",
    "\n",
    "\n",
    "for x in range(NumS):\n",
    "    yp = y_k[x]-y_k\n",
    "    yp[yp < 0] = 0\n",
    "    v_i = np.append(v_i, np.mean(yp))"
   ]
  },
  {
   "cell_type": "markdown",
   "id": "9b3f78d4",
   "metadata": {
    "slideshow": {
     "slide_type": "slide"
    }
   },
   "source": [
    "### 3.1. Using Scipy\n",
    "\n",
    "The goal is use the following line at the end:\n",
    "\n",
    "res_ex1 = linprog(-c_ex1, A_ub=A_ex1, b_ub=b_ex1, A_eq=A_ex2, b_eq=b_ex2,\n",
    "                  bounds=bounds_ex1, method='highs')\n",
    "\n"
   ]
  },
  {
   "cell_type": "markdown",
   "id": "ff457b2a",
   "metadata": {
    "slideshow": {
     "slide_type": "slide"
    }
   },
   "source": [
    "### 3.1.1. Pain in the ass (or Setting up objective and constraints)\n",
    "\n",
    "Here we setup the parameters for the objective function:"
   ]
  },
  {
   "cell_type": "code",
   "execution_count": 9,
   "id": "f36b9d96",
   "metadata": {
    "slideshow": {
     "slide_type": "-"
    }
   },
   "outputs": [],
   "source": [
    "# start = time.time()\n",
    "\n",
    "# Calculate the probability of each state times the total return of assets\n",
    "#e.g pk(r11+r21+...), pk(r21+r22+...)\n",
    "pk_S_rnk = p_k * df[cols].sum()\n",
    "\n",
    "# Convert the resulting series to a list\n",
    "pk_S_rnk = pk_S_rnk.values.tolist()\n",
    "\n",
    "#The s_ik variables\n",
    "s_ik = [0]*NumS*NumS\n",
    "\n",
    "# Setting the objective for linear programing \n",
    "# Adding the list together\n",
    "c_ex1 = np.array(pk_S_rnk + s_ik)  "
   ]
  },
  {
   "cell_type": "markdown",
   "id": "274cca69",
   "metadata": {
    "slideshow": {
     "slide_type": "subslide"
    }
   },
   "source": [
    "Now we turn to inequality constraints:"
   ]
  },
  {
   "cell_type": "code",
   "execution_count": 10,
   "id": "f3e3730e",
   "metadata": {
    "slideshow": {
     "slide_type": "subslide"
    }
   },
   "outputs": [],
   "source": [
    "r_list = df.values.tolist()\n",
    "\n",
    "#Copy the return for m states\n",
    "r_list = r_list * NumS \n",
    "\n",
    "# Stack two below matrices together\n",
    "b1 = np.array(r_list)\n",
    "b2 = np.identity(NumS*NumS)\n",
    "\n",
    "# The first line of the constraints\n",
    "A_ex1_1 = np.column_stack((b1, b2))"
   ]
  },
  {
   "cell_type": "code",
   "execution_count": 11,
   "id": "1e9cc2b8",
   "metadata": {
    "slideshow": {
     "slide_type": "subslide"
    }
   },
   "outputs": [],
   "source": [
    "#b3 is for w_i\n",
    "b3 = np.array(df.values.tolist())*0\n",
    "b4 = np.zeros((NumS,NumS*NumS))\n",
    "\n",
    "for x in range(NumS):\n",
    "   b4[x,NumS*x:NumS*(x+1)] = 1  \n",
    "    \n",
    "A_ex1_2 = p_k*np.column_stack((b3, b4))\n",
    "\n",
    "# The inequality constraints for linear programing\n",
    "A_ex1 = np.row_stack((-A_ex1_1,A_ex1_2))"
   ]
  },
  {
   "cell_type": "code",
   "execution_count": 12,
   "id": "a8bf4c23",
   "metadata": {
    "slideshow": {
     "slide_type": "subslide"
    }
   },
   "outputs": [],
   "source": [
    "#Working on the bounds of inequality constraints\n",
    "\n",
    "# Bounds of inequality constraints used for lP\n",
    "b_ex1 = np.array([])\n",
    "for i in range(NumS):\n",
    "    for x in range(NumS):\n",
    "        b_ex1 = np.append(b_ex1, y_k[i])\n",
    "\n",
    "\n",
    "b_ex1 = np.append(-b_ex1,v_i)"
   ]
  },
  {
   "cell_type": "markdown",
   "id": "1abac7fd",
   "metadata": {
    "slideshow": {
     "slide_type": "subslide"
    }
   },
   "source": [
    "Last but not least, the equality constraint:"
   ]
  },
  {
   "cell_type": "code",
   "execution_count": 13,
   "id": "3c4316de",
   "metadata": {
    "slideshow": {
     "slide_type": "subslide"
    }
   },
   "outputs": [],
   "source": [
    "# Working on equality constraint\n",
    "A_ex2 = np.array([np.append(np.ones(NumA), np.zeros(NumS*NumS))])\n",
    "\n",
    "#print(A_ex2)\n",
    "b_ex2 = np.array([1])\n",
    "\n",
    "# Bounds on decision variables\n",
    "bounds_ex1 =[]\n",
    "for x in range(NumA+NumS*NumS):\n",
    "    bounds_ex1 = bounds_ex1 + [(0, None)]"
   ]
  },
  {
   "cell_type": "markdown",
   "id": "297819bb",
   "metadata": {
    "slideshow": {
     "slide_type": "slide"
    }
   },
   "source": [
    "### 3.1.2 Solving the linear programming problem\n",
    "Now, we can use the solver to figure out the best solution of our linear programming problem:"
   ]
  },
  {
   "cell_type": "code",
   "execution_count": 14,
   "id": "553151e5",
   "metadata": {
    "slideshow": {
     "slide_type": "subslide"
    }
   },
   "outputs": [
    {
     "name": "stdout",
     "output_type": "stream",
     "text": [
      "The optimal portfolio has the form\n",
      "[0.         0.         0.06803595 0.18800344 0.         0.39137554\n",
      " 0.23092417 0.12166089]\n",
      "Execution time:  0.023485183715820312\n"
     ]
    }
   ],
   "source": [
    "# Solve the problem\n",
    "\n",
    "start = time.time()\n",
    "# res_ex1 = linprog(-c_ex1, A_ub=A_ex1, b_ub=b_ex1, A_eq=A_ex2, b_eq=b_ex2,\n",
    "#                   bounds=bounds_ex1, method='revised simplex')\n",
    "res_ex1 = linprog(-c_ex1, A_ub=A_ex1, b_ub=b_ex1, A_eq=A_ex2, b_eq=b_ex2,\n",
    "                  bounds=bounds_ex1, method='highs')\n",
    "end = time.time()\n",
    "\n",
    "print(\"The optimal portfolio has the form\")\n",
    "print(res_ex1.x[0:8])\n",
    "\n",
    "print(\"Execution time: \", end - start)"
   ]
  },
  {
   "cell_type": "markdown",
   "id": "9d9df4cf",
   "metadata": {
    "slideshow": {
     "slide_type": "slide"
    }
   },
   "source": [
    "### 3.2 Using OR-tools"
   ]
  },
  {
   "cell_type": "code",
   "execution_count": 15,
   "id": "bdeb3bad",
   "metadata": {
    "slideshow": {
     "slide_type": "subslide"
    }
   },
   "outputs": [
    {
     "data": {
      "text/plain": [
       "<ortools.linear_solver.pywraplp.Constraint; proxy of <Swig Object of type 'operations_research::MPConstraint *' at 0x0000025FDAC3CD20> >"
      ]
     },
     "execution_count": 15,
     "metadata": {},
     "output_type": "execute_result"
    }
   ],
   "source": [
    "# start = time.time()\n",
    "# Instantiate a SCIP solver and naming it.\n",
    "solver = pywraplp.Solver.CreateSolver('SCIP')\n",
    "\n",
    "\n",
    "# Declare arrays to hold our variables.\n",
    "# The below code will store information to objective \"solver\". \n",
    "# Make sure that you didn't store the same information repeatly in the \"solver\"\n",
    "weight_A = [solver.NumVar(0.0, solver.infinity(), f'w_{i+1}') for i in range(NumA)]\n",
    "s_ik = [solver.NumVar(0.0, solver.infinity(), f's_{i+1}_{k+1}') for i in range(NumS) for k in range(NumS)]\n",
    "\n",
    "\n",
    "#First inequality constraint\n",
    "for i in range(NumS):\n",
    "    for k in range(NumS):\n",
    "        solver.Add(sum(df[cols[n]][k]*weight_A[n] for n in range(NumA)) + s_ik[i*NumS+k] >= y_k[i])\n",
    "\n",
    "#Second inequality constraint\n",
    "for i in range(NumS):\n",
    "    solver.Add(sum(p_k*s_ik[i*NumS+k] for k in range(NumS)  ) <= v_i[i])\n",
    "    \n",
    "# Equality constraint\n",
    "solver.Add(sum(weight_A[n] for n in range(NumA) ) == 1)"
   ]
  },
  {
   "cell_type": "code",
   "execution_count": 16,
   "id": "dbc4ff98",
   "metadata": {
    "slideshow": {
     "slide_type": "subslide"
    }
   },
   "outputs": [],
   "source": [
    "solver.Maximize(sum(sum(p_k*df[cols[n]][k]*weight_A[n] for n in range(NumA)) for k in range(NumS)))"
   ]
  },
  {
   "cell_type": "code",
   "execution_count": 17,
   "id": "1662897d",
   "metadata": {
    "slideshow": {
     "slide_type": "subslide"
    }
   },
   "outputs": [
    {
     "name": "stdout",
     "output_type": "stream",
     "text": [
      "Solution:\n",
      "Objective value = 11.008198995664435\n",
      "w1 = 0.0\n",
      "w2 = 0.0\n",
      "w3 = 0.06803595208792393\n",
      "w4 = 0.18800344323438142\n",
      "w5 = 0.0\n",
      "w6 = 0.3913755414860866\n",
      "w7 = 0.23092417350675995\n",
      "w8 = 0.12166088968484806\n",
      "Execution time:  0.08620619773864746\n"
     ]
    }
   ],
   "source": [
    "# Solve the system.\n",
    "start = time.time()\n",
    "status = solver.Solve()\n",
    "end = time.time()\n",
    "\n",
    "if status == pywraplp.Solver.OPTIMAL:\n",
    "    print('Solution:')\n",
    "    print('Objective value =', solver.Objective().Value())\n",
    "    for n in range(NumA):\n",
    "        print(f'w{n+1} =', weight_A[n].solution_value())\n",
    "else:\n",
    "    print('The problem does not have an optimal solution.')\n",
    "\n",
    "\n",
    "print(\"Execution time: \", end - start)"
   ]
  },
  {
   "cell_type": "markdown",
   "id": "bb728022",
   "metadata": {
    "slideshow": {
     "slide_type": "slide"
    }
   },
   "source": [
    "## Reference\n",
    "\n",
    "Atkinson, A. B. (1970). On the measurement of inequality. Journal of economic theory, 2(3), 244-263.\n",
    "\n",
    "Bawa, V. S., Bodurtha Jr, J. N., Rao, M. R., & Suri, H. L. (1985). On determination of stochastic dominance optimal sets. The Journal of Finance, 40(2), 417-431.\n",
    "\n",
    "Cho, Y. H., Linton, O., & Whang, Y. J. (2007). Are there Monday effects in stock returns: A stochastic dominance approach. Journal of Empirical Finance, 14(5), 736-755.\n",
    "\n",
    "Chui, D., Cheng, W. W., Chow, S. C., & Ya, L. I. (2020). Eastern Halloween effect: A stochastic dominance approach. Journal of International Financial Markets, Institutions and Money, 68, 101241.\n",
    "\n",
    "Dentcheva, D., & Ruszczyński, A. (2003). Optimization with stochastic dominance constraints. SIAM Journal on Optimization, 14(2), 548-566.\n",
    "\n",
    "Fang, Y., & Post, T. (2022). Optimal portfolio choice for higher-order risk averters. Journal of Banking & Finance, 137, 106429.\n",
    "\n",
    "Guerre, E., Perrigne, I., & Vuong, Q. (2009). Nonparametric identification of risk aversion in first‐price auctions under exclusion restrictions. Econometrica, 77(4), 1193-1227."
   ]
  },
  {
   "cell_type": "markdown",
   "id": "ed7be7f1",
   "metadata": {
    "slideshow": {
     "slide_type": "subslide"
    }
   },
   "source": [
    "Hadar, J., & Russell, W. R. (1969). Rules for ordering uncertain prospects. The American economic review, 59(1), 25-34.\n",
    "\n",
    "Hanoch, G., & Levy, H. (1975). The efficiency analysis of choices involving risk. In Stochastic Optimization Models in Finance (pp. 89-100). Academic Press.\n",
    "\n",
    "Levy, H. (2016). Stochastic dominance: Investment decision making under uncertainty. New York: Springer.\n",
    "\n",
    "Maasoumi, E., Millimet, D. L., & Rangaprasad, V. (2005). Class size and educational policy: Who benefits from smaller classes?. Econometric Reviews, 24(4), 333-368.\n",
    "\n",
    "Rothschild, M., & Stiglitz, J. E. (1978). Increasing risk: I. A definition. In Uncertainty in Economics (pp. 99-121). Academic Press.\n",
    "\n",
    "Tesfatsion, L. (1976). Stochastic dominance and the maximization of expected utility. The Review of Economic Studies, 43(2), 301-315."
   ]
  }
 ],
 "metadata": {
  "celltoolbar": "Slideshow",
  "kernelspec": {
   "display_name": "Python 3 (ipykernel)",
   "language": "python",
   "name": "python3"
  },
  "language_info": {
   "codemirror_mode": {
    "name": "ipython",
    "version": 3
   },
   "file_extension": ".py",
   "mimetype": "text/x-python",
   "name": "python",
   "nbconvert_exporter": "python",
   "pygments_lexer": "ipython3",
   "version": "3.9.7"
  }
 },
 "nbformat": 4,
 "nbformat_minor": 5
}
