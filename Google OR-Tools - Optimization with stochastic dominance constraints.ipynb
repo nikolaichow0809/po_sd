{
 "cells": [
  {
   "cell_type": "code",
   "execution_count": 1,
   "id": "217c4155",
   "metadata": {},
   "outputs": [],
   "source": [
    "# !pip install ortools"
   ]
  },
  {
   "cell_type": "code",
   "execution_count": 36,
   "id": "016da003",
   "metadata": {},
   "outputs": [],
   "source": [
    "import pandas as pd\n",
    "import numpy as np\n",
    "import itertools\n",
    "import time\n",
    "\n",
    "from ortools.linear_solver import pywraplp\n",
    "from itertools import repeat\n",
    "%matplotlib inline"
   ]
  },
  {
   "cell_type": "code",
   "execution_count": 37,
   "id": "9601f030",
   "metadata": {},
   "outputs": [],
   "source": [
    "#Number of w is N=8 and s = m*m = 22*22 = 484 is 492\n",
    "# intialise data of lists.\n",
    "\n",
    "data = {'Asset 1':[  7.5,   8.4,  6.1,  5.2,  5.5,\n",
    "                     7.7,  10.9, 12.7, 15.6, 11.7,\n",
    "                     9.2,  10.3,    8,  6.3,  6.1,\n",
    "                     7.1,   8.7,    8,  5.7,  3.6,  3.1,  4.5],\n",
    "        'Asset 2':[ -5.8,     2,  5.6, 17.5,  0.2, \n",
    "                    -1.8,  -2.2, -5.3,  0.3, 46.5,\n",
    "                    -1.5,  15.9, 36.6, 30.9, -7.5,\n",
    "                     8.6,  21.2,  5.4, 19.3,  7.9, 21.7,-11.1],\n",
    "        'Asset 3':[-14.8, -26.5, 37.1, 23.6, -7.4,\n",
    "                     6.4,  18.4, 32.3, -5.1, 21.5,\n",
    "                    22.4,   6.1, 31.6, 18.6,  5.2,\n",
    "                    16.5,  31.6, -3.2, 30.4,  7.6,   10,  1.2],\n",
    "        'Asset 4':[-18.5, -28.4, 38.5, 26.6, -2.6,\n",
    "                     9.3,  25.6, 33.7, -3.7, 18.7,\n",
    "                    23.5,     3, 32.6, 16.1,  2.3,\n",
    "                    17.9,  29.2, -6.2, 34.2,    9, 11.3, -0.1],\n",
    "        'Asset 5':[-30.2, -33.8, 31.8,   28,  9.3, \n",
    "                    14.6,  30.7, 36.7,   -1, 21.3,\n",
    "                    21.7,  -9.7, 33.3,  8.6, -4.1,\n",
    "                    16.5,  20.4,  -17, 59.4, 17.4, 16.2, -3.2],\n",
    "        'Asset 6':[  2.3,   0.2, 12.3, 15.6,    3,  \n",
    "                     1.2,   2.3,  3.1,  7.3, 31.1,\n",
    "                       8,    15, 21.3, 15.6,  2.3,\n",
    "                     7.6,  14.2,  8.3, 16.1,  7.6,   11, -3.5],\n",
    "        'Asset 7':[-14.9, -23.2, 35.4,  2.5, 18.1, \n",
    "                    32.6,   4.8, 22.6, -2.3, -1.9,\n",
    "                    23.7,   7.4, 56.2, 69.4, 24.6,\n",
    "                    28.3,  10.5,-23.4, 12.1,-12.2, 32.6,  7.8],\n",
    "        'Asset 8':[ 67.7,  72.2,  -24,   -4,   20, \n",
    "                    29.5,  21.2, 29.6,-31.2,  8.4,\n",
    "                   -12.8, -17.5,  0.6, 21.6, 24.4,\n",
    "                   -13.9,  -2.3, -7.8, -4.2, -7.4, 14.6,   -1]}\n",
    "\n",
    "# Create DataFrame\n",
    "df = pd.DataFrame(data)"
   ]
  },
  {
   "cell_type": "code",
   "execution_count": 38,
   "id": "ab29167a",
   "metadata": {},
   "outputs": [],
   "source": [
    "# Number of assets\n",
    "NumA = len(df.columns)\n",
    "# Number of states\n",
    "NumS = len(df)\n",
    "\n",
    "# List for col index\n",
    "cols = [f'Asset {i}' for i in range(1, NumA+1)]\n",
    "\n",
    "# Create an array of weights, each set to 1/NumA\n",
    "weight = np.full(NumA, 1/NumA)\n",
    "\n",
    "# Calculate the weighted average of the columns in the dataframe\n",
    "y_k = np.average(np.asarray(df[cols]), weights=weight, axis=1)\n",
    "\n",
    "# Calculate the probability of each state \n",
    "p_k = 1/NumS\n",
    "\n",
    "v_i = np.array([])\n",
    "\n",
    "for x in range(NumS):\n",
    "    yp = y_k[x]-y_k\n",
    "    yp[yp < 0] = 0\n",
    "    v_i = np.append(v_i, np.mean(yp))\n"
   ]
  },
  {
   "cell_type": "code",
   "execution_count": 39,
   "id": "9f933c66",
   "metadata": {},
   "outputs": [
    {
     "name": "stdout",
     "output_type": "stream",
     "text": [
      "Number of variables = 492\n",
      "Number of constraints = 507\n"
     ]
    }
   ],
   "source": [
    "# Instantiate a Glop solver and naming it.\n",
    "solver = pywraplp.Solver.CreateSolver('SCIP')\n",
    "\n",
    "\n",
    "# Declare arrays to hold our variables.\n",
    "# The below code will store information to objective \"solver\". \n",
    "# Make sure that you didn't store the same information repeatly in the \"solver\"\n",
    "weight_A = [solver.NumVar(0.0, solver.infinity(), f'w_{i+1}') for i in range(NumA)]\n",
    "s_ik = [solver.NumVar(0.0, solver.infinity(), f's_{i+1}_{k+1}') for i in range(NumS) for k in range(NumS)]\n",
    "\n",
    "print('Number of variables =', solver.NumVariables())\n",
    "\n",
    "#First inequality constraint\n",
    "for i in range(NumS):\n",
    "    for k in range(NumS):\n",
    "        solver.Add(sum(df[cols[n]][k]*weight_A[n] for n in range(NumA)) + s_ik[i*NumS+k] >= y_k[i])\n",
    "\n",
    "#Second inequality constraint\n",
    "for i in range(NumS):\n",
    "    solver.Add(sum(p_k*s_ik[i*NumS+k] for k in range(NumS)  ) <= v_i[i])\n",
    "    \n",
    "\n",
    "solver.Add(sum(weight_A[n] for n in range(NumA) ) == 1)\n",
    "\n",
    "print('Number of constraints =', solver.NumConstraints())"
   ]
  },
  {
   "cell_type": "code",
   "execution_count": 40,
   "id": "db07c921",
   "metadata": {},
   "outputs": [],
   "source": [
    "solver.Maximize(sum(sum(p_k*df[cols[n]][k]*weight_A[n] for n in range(NumA)) for k in range(NumS)))"
   ]
  },
  {
   "cell_type": "code",
   "execution_count": 41,
   "id": "65fd3855",
   "metadata": {},
   "outputs": [],
   "source": [
    "# Solve the system.\n",
    "status = solver.Solve()"
   ]
  },
  {
   "cell_type": "code",
   "execution_count": 42,
   "id": "d4592946",
   "metadata": {},
   "outputs": [
    {
     "name": "stdout",
     "output_type": "stream",
     "text": [
      "Solution:\n",
      "Objective value = 11.008198995664435\n",
      "w_1 = 0.0\n",
      "w_2 = 0.0\n",
      "w_3 = 0.06803595208792393\n",
      "w_4 = 0.18800344323438142\n",
      "w_5 = 0.0\n",
      "w_6 = 0.3913755414860866\n",
      "w_7 = 0.23092417350675995\n",
      "w_8 = 0.12166088968484806\n"
     ]
    }
   ],
   "source": [
    "if status == pywraplp.Solver.OPTIMAL:\n",
    "    print('Solution:')\n",
    "    print('Objective value =', solver.Objective().Value())\n",
    "    for n in range(NumA):\n",
    "        print(f'w_{n+1} =', weight_A[n].solution_value())\n",
    "else:\n",
    "    print('The problem does not have an optimal solution.')"
   ]
  }
 ],
 "metadata": {
  "kernelspec": {
   "display_name": "Python 3 (ipykernel)",
   "language": "python",
   "name": "python3"
  },
  "language_info": {
   "codemirror_mode": {
    "name": "ipython",
    "version": 3
   },
   "file_extension": ".py",
   "mimetype": "text/x-python",
   "name": "python",
   "nbconvert_exporter": "python",
   "pygments_lexer": "ipython3",
   "version": "3.9.7"
  }
 },
 "nbformat": 4,
 "nbformat_minor": 5
}
